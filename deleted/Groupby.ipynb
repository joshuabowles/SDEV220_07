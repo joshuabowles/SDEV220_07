{
 "cells": [
  {
   "cell_type": "code",
   "execution_count": null,
   "id": "21b744bc",
   "metadata": {},
   "outputs": [],
   "source": [
    "import numpy as np\n",
    "import pandas as pd"
   ]
  },
  {
   "cell_type": "code",
   "execution_count": null,
   "id": "f87270a2",
   "metadata": {},
   "outputs": [],
   "source": [
    "data = {\"Company\" : [\"GOOG\", \"GOOG\", \"MSFT\", \"MSFT\", \"FB\", \"FB\"],\n",
    "       \"Person\" : [\"Sam\", \"Charlie\", \"Amy\", \"Vanessa\", \"Carl\", \"Sarah\"],\n",
    "       \"Sales\" : [200,120,340,124,243,350]}"
   ]
  },
  {
   "cell_type": "code",
   "execution_count": null,
   "id": "2b4a41e9",
   "metadata": {},
   "outputs": [],
   "source": [
    "df = pd.DataFrame(data)"
   ]
  },
  {
   "cell_type": "code",
   "execution_count": null,
   "id": "b3f577ff",
   "metadata": {},
   "outputs": [],
   "source": [
    "df"
   ]
  },
  {
   "cell_type": "code",
   "execution_count": null,
   "id": "0de7a962",
   "metadata": {},
   "outputs": [],
   "source": [
    "bycomp = df.groupby(\"Company\")"
   ]
  },
  {
   "cell_type": "code",
   "execution_count": null,
   "id": "3d79f762",
   "metadata": {},
   "outputs": [],
   "source": [
    "bycomp.mean()"
   ]
  },
  {
   "cell_type": "code",
   "execution_count": null,
   "id": "293e5c75",
   "metadata": {},
   "outputs": [],
   "source": [
    "bycomp.sum()"
   ]
  },
  {
   "cell_type": "code",
   "execution_count": null,
   "id": "17d63393",
   "metadata": {},
   "outputs": [],
   "source": [
    "bycomp.std()"
   ]
  },
  {
   "cell_type": "code",
   "execution_count": null,
   "id": "f1f0499d",
   "metadata": {},
   "outputs": [],
   "source": [
    "bycomp.sum().loc[\"FB\"]"
   ]
  },
  {
   "cell_type": "code",
   "execution_count": null,
   "id": "0987253d",
   "metadata": {},
   "outputs": [],
   "source": [
    "df.groupby(\"Company\").count()"
   ]
  },
  {
   "cell_type": "code",
   "execution_count": null,
   "id": "40dbb4b9",
   "metadata": {},
   "outputs": [],
   "source": [
    "df.groupby(\"Company\").max()"
   ]
  },
  {
   "cell_type": "code",
   "execution_count": null,
   "id": "4b8c51c6",
   "metadata": {},
   "outputs": [],
   "source": [
    "df.groupby(\"Company\").min()"
   ]
  },
  {
   "cell_type": "code",
   "execution_count": null,
   "id": "83b4980e",
   "metadata": {},
   "outputs": [],
   "source": [
    "df.groupby(\"Company\").describe()"
   ]
  },
  {
   "cell_type": "code",
   "execution_count": null,
   "id": "63143cf4",
   "metadata": {},
   "outputs": [],
   "source": [
    "df.groupby(\"Company\").describe().transpose()"
   ]
  },
  {
   "cell_type": "code",
   "execution_count": null,
   "id": "d383e7e8",
   "metadata": {},
   "outputs": [],
   "source": [
    "df.groupby(\"Company\").describe().transpose()[\"FB\"]"
   ]
  }
 ],
 "metadata": {
  "kernelspec": {
   "display_name": "Python 3 (ipykernel)",
   "language": "python",
   "name": "python3"
  },
  "language_info": {
   "codemirror_mode": {
    "name": "ipython",
    "version": 3
   },
   "file_extension": ".py",
   "mimetype": "text/x-python",
   "name": "python",
   "nbconvert_exporter": "python",
   "pygments_lexer": "ipython3",
   "version": "3.9.12"
  }
 },
 "nbformat": 4,
 "nbformat_minor": 5
}
