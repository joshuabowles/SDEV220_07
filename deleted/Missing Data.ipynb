{
 "cells": [
  {
   "cell_type": "code",
   "execution_count": null,
   "id": "33c96af8",
   "metadata": {},
   "outputs": [],
   "source": [
    "import numpy as np\n",
    "import pandas as pd"
   ]
  },
  {
   "cell_type": "code",
   "execution_count": null,
   "id": "1b26320b",
   "metadata": {},
   "outputs": [],
   "source": [
    "d = {\"A\":[1,2,np.nan], \"B\":[5.np.nan,np.nan], \"C\":[1,2,3]}"
   ]
  },
  {
   "cell_type": "code",
   "execution_count": null,
   "id": "9a99f480",
   "metadata": {},
   "outputs": [],
   "source": [
    "df = pd.DataFrame(d)"
   ]
  },
  {
   "cell_type": "code",
   "execution_count": null,
   "id": "018a1aca",
   "metadata": {},
   "outputs": [],
   "source": [
    "df"
   ]
  },
  {
   "cell_type": "code",
   "execution_count": null,
   "id": "365b0436",
   "metadata": {},
   "outputs": [],
   "source": [
    "df.dropna(axis=1)"
   ]
  },
  {
   "cell_type": "code",
   "execution_count": null,
   "id": "38a5386e",
   "metadata": {},
   "outputs": [],
   "source": [
    "df.dropna()"
   ]
  },
  {
   "cell_type": "code",
   "execution_count": null,
   "id": "7e7df9c3",
   "metadata": {},
   "outputs": [],
   "source": [
    "df.dropna(thresh=2)"
   ]
  },
  {
   "cell_type": "code",
   "execution_count": null,
   "id": "209c8997",
   "metadata": {},
   "outputs": [],
   "source": [
    "df"
   ]
  },
  {
   "cell_type": "code",
   "execution_count": null,
   "id": "0d420f3f",
   "metadata": {},
   "outputs": [],
   "source": [
    "df.fillna(value= \"FILL VALUE\")"
   ]
  },
  {
   "cell_type": "code",
   "execution_count": null,
   "id": "9f332828",
   "metadata": {},
   "outputs": [],
   "source": [
    "df[\"A\"].fillna(value=df[\"A\"].mean())"
   ]
  }
 ],
 "metadata": {
  "kernelspec": {
   "display_name": "Python 3 (ipykernel)",
   "language": "python",
   "name": "python3"
  },
  "language_info": {
   "codemirror_mode": {
    "name": "ipython",
    "version": 3
   },
   "file_extension": ".py",
   "mimetype": "text/x-python",
   "name": "python",
   "nbconvert_exporter": "python",
   "pygments_lexer": "ipython3",
   "version": "3.9.12"
  }
 },
 "nbformat": 4,
 "nbformat_minor": 5
}
