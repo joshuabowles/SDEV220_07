{
 "cells": [
  {
   "cell_type": "code",
   "execution_count": null,
   "id": "633885c3",
   "metadata": {},
   "outputs": [],
   "source": [
    "import numpy as np\n",
    "import pandas as pd"
   ]
  },
  {
   "cell_type": "code",
   "execution_count": null,
   "id": "058d7a48",
   "metadata": {},
   "outputs": [],
   "source": [
    "df = pd.DataFrame({\"col1\" L: [1, 2, 3, 4],\n",
    "                  \"col2\" : [444, 555, 666, 444],\n",
    "                  \"col3\" : [\"abc\", \"def\", \"ghi\", \"xyz\"]})\n",
    "df.head()"
   ]
  },
  {
   "cell_type": "code",
   "execution_count": null,
   "id": "5bef8f2b",
   "metadata": {},
   "outputs": [],
   "source": [
    "df[\"col2\"].nunique()"
   ]
  },
  {
   "cell_type": "code",
   "execution_count": null,
   "id": "3b956e6a",
   "metadata": {},
   "outputs": [],
   "source": [
    "df[\"col2\"].value_counts()"
   ]
  },
  {
   "cell_type": "code",
   "execution_count": null,
   "id": "2ff7de52",
   "metadata": {},
   "outputs": [],
   "source": [
    "df[df[\"col1\"] > 2 & (df[\"col2\"] == 444)]"
   ]
  },
  {
   "cell_type": "code",
   "execution_count": null,
   "id": "faf8d85b",
   "metadata": {},
   "outputs": [],
   "source": [
    "df[\"col1\"] > 2"
   ]
  },
  {
   "cell_type": "code",
   "execution_count": null,
   "id": "b98328fb",
   "metadata": {},
   "outputs": [],
   "source": [
    "def times2(x):\n",
    "    return x*2"
   ]
  },
  {
   "cell_type": "code",
   "execution_count": null,
   "id": "bb1728e5",
   "metadata": {},
   "outputs": [],
   "source": [
    "df[\"col1\"].apply(times2)"
   ]
  },
  {
   "cell_type": "code",
   "execution_count": null,
   "id": "248e3201",
   "metadata": {},
   "outputs": [],
   "source": [
    "df[\"col3\"].apply(lambda x: x*2)"
   ]
  },
  {
   "cell_type": "code",
   "execution_count": null,
   "id": "1c265df8",
   "metadata": {},
   "outputs": [],
   "source": [
    "df.columns"
   ]
  },
  {
   "cell_type": "code",
   "execution_count": null,
   "id": "a8d06f42",
   "metadata": {},
   "outputs": [],
   "source": [
    "df.index"
   ]
  },
  {
   "cell_type": "code",
   "execution_count": null,
   "id": "c30f41f0",
   "metadata": {},
   "outputs": [],
   "source": [
    "df.sort_values(\"col2\")"
   ]
  },
  {
   "cell_type": "code",
   "execution_count": null,
   "id": "0f158535",
   "metadata": {},
   "outputs": [],
   "source": [
    "df.isnull()"
   ]
  },
  {
   "cell_type": "code",
   "execution_count": null,
   "id": "5c039646",
   "metadata": {},
   "outputs": [],
   "source": [
    "data = {\"A\" : [\"foo\", \"foo\", \"foo\", \"bar\", \"bar\", \"bar\"],\n",
    "       \"B\" : [\"one\", \"one\", \"one\", \"two\", \"two\", \"two\"],\n",
    "       \"C\" : [\"x\", \"y\", \"x\", \"y\", \"x\", \"y\"]}\n",
    "df = pd.DataFrame(data)"
   ]
  },
  {
   "cell_type": "code",
   "execution_count": null,
   "id": "d4910083",
   "metadata": {},
   "outputs": [],
   "source": [
    "df.pivot_table(values=\"D\", index[\"A\", \"B\"], columns=[\"C\"])"
   ]
  }
 ],
 "metadata": {
  "kernelspec": {
   "display_name": "Python 3 (ipykernel)",
   "language": "python",
   "name": "python3"
  },
  "language_info": {
   "codemirror_mode": {
    "name": "ipython",
    "version": 3
   },
   "file_extension": ".py",
   "mimetype": "text/x-python",
   "name": "python",
   "nbconvert_exporter": "python",
   "pygments_lexer": "ipython3",
   "version": "3.9.12"
  }
 },
 "nbformat": 4,
 "nbformat_minor": 5
}
