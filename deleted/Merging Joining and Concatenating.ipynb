{
 "cells": [
  {
   "cell_type": "code",
   "execution_count": null,
   "id": "a02a3393",
   "metadata": {},
   "outputs": [],
   "source": [
    "import pandas as pd"
   ]
  },
  {
   "cell_type": "code",
   "execution_count": null,
   "id": "61f0c141",
   "metadata": {},
   "outputs": [],
   "source": [
    "df1 = pd.DataFrame({\"A\" : [\"A0\", \"A1\", \"A2\", \"A3\"],\n",
    "                   \"B\" : [\"B0\", \"B1\", \"B2\", \"B3\"],\n",
    "                   \"C\" : [\"C0\", \"C1\", \"C2\", \"C3\"],\n",
    "                   \"D\" : [\"D0\", \"D1\", \"D2\", \"D3\"]},\n",
    "                  index = [0, 1, 2, 3])"
   ]
  },
  {
   "cell_type": "code",
   "execution_count": null,
   "id": "6c77da38",
   "metadata": {},
   "outputs": [],
   "source": [
    "df2 = pd.DataFrame({\"A\" : [\"A4\", \"A5\", \"A6\", \"A7\"],\n",
    "                   \"B\" : [\"B4\", \"B5\", \"B6\", \"B7\"],\n",
    "                   \"C\" : [\"C4\", \"C5\", \"C6\", \"C7\"],\n",
    "                   \"D\" : [\"D4\", \"D5\", \"D6\", \"D7\"]},\n",
    "                  index = [4, 5, 6, 7])"
   ]
  },
  {
   "cell_type": "code",
   "execution_count": null,
   "id": "6299d4e2",
   "metadata": {},
   "outputs": [],
   "source": [
    "df3 = pd.DataFrame({\"A\" : [\"A8\", \"A9\", \"A10\", \"A11\"],\n",
    "                   \"B\" : [\"B8\", \"B9\", \"B10\", \"B11\"],\n",
    "                   \"C\" : [\"C8\", \"C9\", \"C10\", \"C11\"],\n",
    "                   \"D\" : [\"D8\", \"D9\", \"D10\", \"D11\"]},\n",
    "                  index = [8, 9, 10, 11])"
   ]
  },
  {
   "cell_type": "code",
   "execution_count": null,
   "id": "668ac825",
   "metadata": {},
   "outputs": [],
   "source": [
    "df1"
   ]
  },
  {
   "cell_type": "code",
   "execution_count": null,
   "id": "a95d5b5f",
   "metadata": {},
   "outputs": [],
   "source": [
    "df2"
   ]
  },
  {
   "cell_type": "code",
   "execution_count": null,
   "id": "c320e5ec",
   "metadata": {},
   "outputs": [],
   "source": [
    "df3"
   ]
  },
  {
   "cell_type": "code",
   "execution_count": null,
   "id": "41a1c1ba",
   "metadata": {},
   "outputs": [],
   "source": [
    "pd.concat([df1, df2, df3])"
   ]
  },
  {
   "cell_type": "code",
   "execution_count": null,
   "id": "54634ff8",
   "metadata": {},
   "outputs": [],
   "source": [
    "pd.concat([df1, df2, df3], axis=1)"
   ]
  },
  {
   "cell_type": "code",
   "execution_count": null,
   "id": "a0456fa1",
   "metadata": {},
   "outputs": [],
   "source": [
    "left = pd.DataFrame({\"Key\" : [\"K0\", \"K1\", \"K2\", \"K3\"],\n",
    "                     \"A\" : [\"A0\", \"A1\", \"A2\", \"A3\"],\n",
    "                     \"B\" : [\"B0\", \"B1\", \"B2\", \"B3\"]})\n",
    "                   \n",
    "left = pd.DataFrame({\"Key\" : [\"K0\", \"K1\", \"K2\", \"K3\"],    \n",
    "                       \"C\" : [\"C0\", \"C1\", \"C2\", \"C3\"],\n",
    "                       \"D\" : [\"D0\", \"D1\", \"D2\", \"D3\"]}"
   ]
  },
  {
   "cell_type": "code",
   "execution_count": null,
   "id": "849736b0",
   "metadata": {},
   "outputs": [],
   "source": [
    "left"
   ]
  },
  {
   "cell_type": "code",
   "execution_count": null,
   "id": "12348557",
   "metadata": {},
   "outputs": [],
   "source": [
    "right"
   ]
  },
  {
   "cell_type": "code",
   "execution_count": null,
   "id": "9e799fc7",
   "metadata": {},
   "outputs": [],
   "source": [
    "pd.merge(left, right, how = \"inner\", on = \"key\")"
   ]
  },
  {
   "cell_type": "code",
   "execution_count": null,
   "id": "4de98dde",
   "metadata": {},
   "outputs": [],
   "source": [
    "left = pd.DataFrame({\"Key1\" : [\"K0\", \"K0\", \"K1\", \"K2\"],\n",
    "                     \"Key2\" : [\"K0\", \"K1\", \"K0\", \"K1\"],\n",
    "                     \"A\" : [\"A0\", \"A1\", \"A2\", \"A3\"],\n",
    "                     \"B\" : [\"B0\", \"B1\", \"B2\", \"B3\"]})\n",
    "                   \n",
    "left = pd.DataFrame({\"Key1\" : [\"K0\", \"K1\", \"K1\", \"K2\"],\n",
    "                     \"Key2\" : [\"K0\", \"K0\", \"K0\", \"K0\"],\n",
    "                       \"C\" : [\"C0\", \"C1\", \"C2\", \"C3\"],\n",
    "                       \"D\" : [\"D0\", \"D1\", \"D2\", \"D3\"]}"
   ]
  },
  {
   "cell_type": "code",
   "execution_count": null,
   "id": "acb9cad1",
   "metadata": {},
   "outputs": [],
   "source": [
    "pd.merge(left, right, on=[\"key1\", \"key2\"])"
   ]
  },
  {
   "cell_type": "code",
   "execution_count": null,
   "id": "e2df8f83",
   "metadata": {},
   "outputs": [],
   "source": [
    "pd.merge(left, right, how = \"outer\", on = [\"key1\", \"key2\"])"
   ]
  },
  {
   "cell_type": "code",
   "execution_count": null,
   "id": "97f40fa9",
   "metadata": {},
   "outputs": [],
   "source": [
    "pd.merge(left, right, how = \"right\", on = [\"key1\", \"key2\"])"
   ]
  },
  {
   "cell_type": "code",
   "execution_count": null,
   "id": "ae931d8d",
   "metadata": {},
   "outputs": [],
   "source": [
    "pd.merge(left, right, how = \"left\", on = [\"key1\", \"key2\"])"
   ]
  },
  {
   "cell_type": "code",
   "execution_count": null,
   "id": "1a7981c3",
   "metadata": {},
   "outputs": [],
   "source": [
    "left.join(right)"
   ]
  },
  {
   "cell_type": "code",
   "execution_count": null,
   "id": "ea90dd0e",
   "metadata": {},
   "outputs": [],
   "source": [
    "left.join(right, how=\"enter\")"
   ]
  }
 ],
 "metadata": {
  "kernelspec": {
   "display_name": "Python 3 (ipykernel)",
   "language": "python",
   "name": "python3"
  },
  "language_info": {
   "codemirror_mode": {
    "name": "ipython",
    "version": 3
   },
   "file_extension": ".py",
   "mimetype": "text/x-python",
   "name": "python",
   "nbconvert_exporter": "python",
   "pygments_lexer": "ipython3",
   "version": "3.9.12"
  }
 },
 "nbformat": 4,
 "nbformat_minor": 5
}
